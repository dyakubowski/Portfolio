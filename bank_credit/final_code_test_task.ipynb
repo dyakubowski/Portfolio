{
  "cells": [
    {
      "cell_type": "markdown",
      "metadata": {
        "id": "jvwsF6d8TvIc"
      },
      "source": [
        "# Тестовое задание\n",
        "\n",
        "В данном задании необходимо написать код, который считает следующие признаки для каждого клиента `user_id`:\n",
        "\n",
        "1. `events_ordinal_number` - порядковый номер события\n",
        "2. `second_event_time` - время второго события\n",
        "2.\t`loan_ordinal_number` - порядковый номер займа\n",
        "2.\t`events_time_diff` - разница во времени между событиями\n",
        "2.\t`previous_loans_max_amount` - максимальная сумма предыдущего займа.\n"
      ]
    },
    {
      "cell_type": "markdown",
      "metadata": {
        "id": "rsJvzaM3TvIg"
      },
      "source": [
        "### Подготовка датафрейма"
      ]
    },
    {
      "cell_type": "code",
      "execution_count": 1,
      "metadata": {
        "ExecuteTime": {
          "end_time": "2022-01-31T03:49:42.126788Z",
          "start_time": "2022-01-31T03:49:42.123378Z"
        },
        "id": "DB5U4kkZTvIh"
      },
      "outputs": [],
      "source": [
        "# import libraries to work with dataframe\n",
        "import numpy as np\n",
        "import pandas as pd\n",
        "from datetime import datetime"
      ]
    },
    {
      "cell_type": "code",
      "execution_count": 2,
      "metadata": {
        "ExecuteTime": {
          "end_time": "2022-01-31T03:49:43.232607Z",
          "start_time": "2022-01-31T03:49:42.885224Z"
        },
        "id": "bSqr9AzETvIi"
      },
      "outputs": [],
      "source": [
        "# create dataframe contains 10000 rows and assign values for columns\n",
        "size = 10000\n",
        "\n",
        "df = pd.DataFrame(\n",
        "    {\n",
        "        'time': [*pd.date_range('2001-01-01', '2020-09-01', freq='1h')][:size],\n",
        "        'user_id': np.random.choice(1000, size),\n",
        "        'type': np.random.choice(2, size, p=[0.8, 0.2]),\n",
        "        'amount': [int(x//1) for x in  np.random.normal(15_000, 1_000, size)],\n",
        "        'target': np.random.choice(2, size, p=[0.5, 0.5]),\n",
        "    },\n",
        "    index=[*range(size)],\n",
        ")"
      ]
    },
    {
      "cell_type": "code",
      "execution_count": 3,
      "metadata": {
        "ExecuteTime": {
          "end_time": "2022-01-31T03:49:46.319681Z",
          "start_time": "2022-01-31T03:49:46.314034Z"
        },
        "id": "lvsazWe_TvIi"
      },
      "outputs": [],
      "source": [
        "# add column 'is_loan' which has value 0 if loan request is considered, 1 if request loan is approved\n",
        "df['is_loan'] = df['type']\n",
        "df['type'] = df['type'].replace({0: 'loanRequest', 1: 'loan'})"
      ]
    },
    {
      "cell_type": "code",
      "source": [
        "df"
      ],
      "metadata": {
        "colab": {
          "base_uri": "https://localhost:8080/",
          "height": 423
        },
        "id": "EWb_31fjXkfK",
        "outputId": "aa10632e-3fc3-4355-8f49-fab76aa08dbb"
      },
      "execution_count": 4,
      "outputs": [
        {
          "output_type": "execute_result",
          "data": {
            "text/plain": [
              "                    time  user_id         type  amount  target  is_loan\n",
              "0    2001-01-01 00:00:00       43  loanRequest   15613       1        0\n",
              "1    2001-01-01 01:00:00       36  loanRequest   16138       1        0\n",
              "2    2001-01-01 02:00:00      847  loanRequest   14709       1        0\n",
              "3    2001-01-01 03:00:00      224         loan   14222       1        1\n",
              "4    2001-01-01 04:00:00      137  loanRequest   15391       0        0\n",
              "...                  ...      ...          ...     ...     ...      ...\n",
              "9995 2002-02-21 11:00:00      508  loanRequest   14747       1        0\n",
              "9996 2002-02-21 12:00:00       97         loan   14786       1        1\n",
              "9997 2002-02-21 13:00:00      920         loan   14085       0        1\n",
              "9998 2002-02-21 14:00:00      738  loanRequest   16151       1        0\n",
              "9999 2002-02-21 15:00:00      856  loanRequest   14918       0        0\n",
              "\n",
              "[10000 rows x 6 columns]"
            ],
            "text/html": [
              "\n",
              "  <div id=\"df-911b5d0c-ec0d-43bc-98c6-720366560513\">\n",
              "    <div class=\"colab-df-container\">\n",
              "      <div>\n",
              "<style scoped>\n",
              "    .dataframe tbody tr th:only-of-type {\n",
              "        vertical-align: middle;\n",
              "    }\n",
              "\n",
              "    .dataframe tbody tr th {\n",
              "        vertical-align: top;\n",
              "    }\n",
              "\n",
              "    .dataframe thead th {\n",
              "        text-align: right;\n",
              "    }\n",
              "</style>\n",
              "<table border=\"1\" class=\"dataframe\">\n",
              "  <thead>\n",
              "    <tr style=\"text-align: right;\">\n",
              "      <th></th>\n",
              "      <th>time</th>\n",
              "      <th>user_id</th>\n",
              "      <th>type</th>\n",
              "      <th>amount</th>\n",
              "      <th>target</th>\n",
              "      <th>is_loan</th>\n",
              "    </tr>\n",
              "  </thead>\n",
              "  <tbody>\n",
              "    <tr>\n",
              "      <th>0</th>\n",
              "      <td>2001-01-01 00:00:00</td>\n",
              "      <td>43</td>\n",
              "      <td>loanRequest</td>\n",
              "      <td>15613</td>\n",
              "      <td>1</td>\n",
              "      <td>0</td>\n",
              "    </tr>\n",
              "    <tr>\n",
              "      <th>1</th>\n",
              "      <td>2001-01-01 01:00:00</td>\n",
              "      <td>36</td>\n",
              "      <td>loanRequest</td>\n",
              "      <td>16138</td>\n",
              "      <td>1</td>\n",
              "      <td>0</td>\n",
              "    </tr>\n",
              "    <tr>\n",
              "      <th>2</th>\n",
              "      <td>2001-01-01 02:00:00</td>\n",
              "      <td>847</td>\n",
              "      <td>loanRequest</td>\n",
              "      <td>14709</td>\n",
              "      <td>1</td>\n",
              "      <td>0</td>\n",
              "    </tr>\n",
              "    <tr>\n",
              "      <th>3</th>\n",
              "      <td>2001-01-01 03:00:00</td>\n",
              "      <td>224</td>\n",
              "      <td>loan</td>\n",
              "      <td>14222</td>\n",
              "      <td>1</td>\n",
              "      <td>1</td>\n",
              "    </tr>\n",
              "    <tr>\n",
              "      <th>4</th>\n",
              "      <td>2001-01-01 04:00:00</td>\n",
              "      <td>137</td>\n",
              "      <td>loanRequest</td>\n",
              "      <td>15391</td>\n",
              "      <td>0</td>\n",
              "      <td>0</td>\n",
              "    </tr>\n",
              "    <tr>\n",
              "      <th>...</th>\n",
              "      <td>...</td>\n",
              "      <td>...</td>\n",
              "      <td>...</td>\n",
              "      <td>...</td>\n",
              "      <td>...</td>\n",
              "      <td>...</td>\n",
              "    </tr>\n",
              "    <tr>\n",
              "      <th>9995</th>\n",
              "      <td>2002-02-21 11:00:00</td>\n",
              "      <td>508</td>\n",
              "      <td>loanRequest</td>\n",
              "      <td>14747</td>\n",
              "      <td>1</td>\n",
              "      <td>0</td>\n",
              "    </tr>\n",
              "    <tr>\n",
              "      <th>9996</th>\n",
              "      <td>2002-02-21 12:00:00</td>\n",
              "      <td>97</td>\n",
              "      <td>loan</td>\n",
              "      <td>14786</td>\n",
              "      <td>1</td>\n",
              "      <td>1</td>\n",
              "    </tr>\n",
              "    <tr>\n",
              "      <th>9997</th>\n",
              "      <td>2002-02-21 13:00:00</td>\n",
              "      <td>920</td>\n",
              "      <td>loan</td>\n",
              "      <td>14085</td>\n",
              "      <td>0</td>\n",
              "      <td>1</td>\n",
              "    </tr>\n",
              "    <tr>\n",
              "      <th>9998</th>\n",
              "      <td>2002-02-21 14:00:00</td>\n",
              "      <td>738</td>\n",
              "      <td>loanRequest</td>\n",
              "      <td>16151</td>\n",
              "      <td>1</td>\n",
              "      <td>0</td>\n",
              "    </tr>\n",
              "    <tr>\n",
              "      <th>9999</th>\n",
              "      <td>2002-02-21 15:00:00</td>\n",
              "      <td>856</td>\n",
              "      <td>loanRequest</td>\n",
              "      <td>14918</td>\n",
              "      <td>0</td>\n",
              "      <td>0</td>\n",
              "    </tr>\n",
              "  </tbody>\n",
              "</table>\n",
              "<p>10000 rows × 6 columns</p>\n",
              "</div>\n",
              "      <button class=\"colab-df-convert\" onclick=\"convertToInteractive('df-911b5d0c-ec0d-43bc-98c6-720366560513')\"\n",
              "              title=\"Convert this dataframe to an interactive table.\"\n",
              "              style=\"display:none;\">\n",
              "        \n",
              "  <svg xmlns=\"http://www.w3.org/2000/svg\" height=\"24px\"viewBox=\"0 0 24 24\"\n",
              "       width=\"24px\">\n",
              "    <path d=\"M0 0h24v24H0V0z\" fill=\"none\"/>\n",
              "    <path d=\"M18.56 5.44l.94 2.06.94-2.06 2.06-.94-2.06-.94-.94-2.06-.94 2.06-2.06.94zm-11 1L8.5 8.5l.94-2.06 2.06-.94-2.06-.94L8.5 2.5l-.94 2.06-2.06.94zm10 10l.94 2.06.94-2.06 2.06-.94-2.06-.94-.94-2.06-.94 2.06-2.06.94z\"/><path d=\"M17.41 7.96l-1.37-1.37c-.4-.4-.92-.59-1.43-.59-.52 0-1.04.2-1.43.59L10.3 9.45l-7.72 7.72c-.78.78-.78 2.05 0 2.83L4 21.41c.39.39.9.59 1.41.59.51 0 1.02-.2 1.41-.59l7.78-7.78 2.81-2.81c.8-.78.8-2.07 0-2.86zM5.41 20L4 18.59l7.72-7.72 1.47 1.35L5.41 20z\"/>\n",
              "  </svg>\n",
              "      </button>\n",
              "      \n",
              "  <style>\n",
              "    .colab-df-container {\n",
              "      display:flex;\n",
              "      flex-wrap:wrap;\n",
              "      gap: 12px;\n",
              "    }\n",
              "\n",
              "    .colab-df-convert {\n",
              "      background-color: #E8F0FE;\n",
              "      border: none;\n",
              "      border-radius: 50%;\n",
              "      cursor: pointer;\n",
              "      display: none;\n",
              "      fill: #1967D2;\n",
              "      height: 32px;\n",
              "      padding: 0 0 0 0;\n",
              "      width: 32px;\n",
              "    }\n",
              "\n",
              "    .colab-df-convert:hover {\n",
              "      background-color: #E2EBFA;\n",
              "      box-shadow: 0px 1px 2px rgba(60, 64, 67, 0.3), 0px 1px 3px 1px rgba(60, 64, 67, 0.15);\n",
              "      fill: #174EA6;\n",
              "    }\n",
              "\n",
              "    [theme=dark] .colab-df-convert {\n",
              "      background-color: #3B4455;\n",
              "      fill: #D2E3FC;\n",
              "    }\n",
              "\n",
              "    [theme=dark] .colab-df-convert:hover {\n",
              "      background-color: #434B5C;\n",
              "      box-shadow: 0px 1px 3px 1px rgba(0, 0, 0, 0.15);\n",
              "      filter: drop-shadow(0px 1px 2px rgba(0, 0, 0, 0.3));\n",
              "      fill: #FFFFFF;\n",
              "    }\n",
              "  </style>\n",
              "\n",
              "      <script>\n",
              "        const buttonEl =\n",
              "          document.querySelector('#df-911b5d0c-ec0d-43bc-98c6-720366560513 button.colab-df-convert');\n",
              "        buttonEl.style.display =\n",
              "          google.colab.kernel.accessAllowed ? 'block' : 'none';\n",
              "\n",
              "        async function convertToInteractive(key) {\n",
              "          const element = document.querySelector('#df-911b5d0c-ec0d-43bc-98c6-720366560513');\n",
              "          const dataTable =\n",
              "            await google.colab.kernel.invokeFunction('convertToInteractive',\n",
              "                                                     [key], {});\n",
              "          if (!dataTable) return;\n",
              "\n",
              "          const docLinkHtml = 'Like what you see? Visit the ' +\n",
              "            '<a target=\"_blank\" href=https://colab.research.google.com/notebooks/data_table.ipynb>data table notebook</a>'\n",
              "            + ' to learn more about interactive tables.';\n",
              "          element.innerHTML = '';\n",
              "          dataTable['output_type'] = 'display_data';\n",
              "          await google.colab.output.renderOutput(dataTable, element);\n",
              "          const docLink = document.createElement('div');\n",
              "          docLink.innerHTML = docLinkHtml;\n",
              "          element.appendChild(docLink);\n",
              "        }\n",
              "      </script>\n",
              "    </div>\n",
              "  </div>\n",
              "  "
            ]
          },
          "metadata": {},
          "execution_count": 4
        }
      ]
    },
    {
      "cell_type": "code",
      "execution_count": 5,
      "metadata": {
        "ExecuteTime": {
          "end_time": "2022-01-31T03:49:47.046951Z",
          "start_time": "2022-01-31T03:49:47.008314Z"
        },
        "id": "9KIPQlVYTvIi"
      },
      "outputs": [],
      "source": [
        "# save dataframe to the source csv-file\n",
        "df.to_csv('test_origin.csv', index=False)"
      ]
    },
    {
      "cell_type": "markdown",
      "metadata": {
        "id": "yRNQfVt2TvIj"
      },
      "source": [
        "### Расчет признаков"
      ]
    },
    {
      "cell_type": "markdown",
      "metadata": {
        "id": "VlVCb_dTTvIj"
      },
      "source": [
        "#### Признак `events_ordinal_number`"
      ]
    },
    {
      "cell_type": "code",
      "execution_count": 7,
      "metadata": {
        "ExecuteTime": {
          "end_time": "2022-01-31T03:51:18.742585Z",
          "start_time": "2022-01-31T03:51:18.739041Z"
        },
        "id": "Z5ZX6YUnTvIk"
      },
      "outputs": [],
      "source": [
        "def calculate_events_number(df):\n",
        "    \"\"\"\n",
        "    calculate order numbers of events for each user separately\n",
        "    param df: dataframe for calculating\n",
        "    return: dataframe with added column contains order numbers\n",
        "    \"\"\"\n",
        "    # define all users who are served in the bank\n",
        "    users = df['user_id'].unique()\n",
        "    # assign 'events_ordinal_number' column zero values \n",
        "    df['events_ordinal_number'] = 0\n",
        "    # order is calculated for each user separately\n",
        "    for user in users:\n",
        "        # create mini-dataframe where there are rows with common user and sort it by event time\n",
        "        df_user = df[df['user_id'] == user].sort_values(['time'])\n",
        "        # the first event has value 1, the following values are autoincreasing\n",
        "        for row in range(len(df_user)):\n",
        "            df_user['events_ordinal_number'].iloc[row] = row + 1\n",
        "        # replace matched cells by user, index number and position in the mini-dataframe\n",
        "        for i in range(len(df_user.index.values)):\n",
        "            df.loc[df_user.index.values[i], 'events_ordinal_number'] = df_user['events_ordinal_number'].iloc[i]\n",
        "    return df"
      ]
    },
    {
      "cell_type": "markdown",
      "metadata": {
        "id": "t0ECUXzgTvIl"
      },
      "source": [
        "#### Признак `second_event_time`"
      ]
    },
    {
      "cell_type": "code",
      "execution_count": 8,
      "metadata": {
        "ExecuteTime": {
          "end_time": "2022-01-31T03:51:20.999794Z",
          "start_time": "2022-01-31T03:51:20.996142Z"
        },
        "id": "OIVQ0RueTvIl"
      },
      "outputs": [],
      "source": [
        "def calculate_second_event_time(df):\n",
        "    \"\"\"\n",
        "    for each user defines when the second event was happended with him\n",
        "    param df: dataframe for calculating\n",
        "    return: dataframe with added column contains the second events\n",
        "    \"\"\"\n",
        "    # define all users who are served in the bank\n",
        "    users = df['user_id'].unique()\n",
        "    # assign 'second_event_time' column zero values\n",
        "    df['second_event_time'] = 0\n",
        "    # create list for tuples consisted from user's id and the second event date for him\n",
        "    second_events_users = []\n",
        "    for user in users:\n",
        "        # create mini-dataframe where there are rows with common user and sort it by event time\n",
        "        # choose from this mini-dataframe the second value of column 'time'\n",
        "        second_time = df[df['user_id'] == user].sort_values(['time']).iloc[1]['time']\n",
        "        # this value with corresponding user's id add to the list\n",
        "        second_events_users.append((user, second_time))\n",
        "    # replace matched cells by user, index number and position in the mini-dataframe\n",
        "    for num in range(len(second_events_users)):\n",
        "        df.loc[df.user_id == second_events_users[num][0], 'second_event_time'] = second_events_users[num][1]\n",
        "    return df"
      ]
    },
    {
      "cell_type": "markdown",
      "metadata": {
        "id": "LFWiFSYtTvIl"
      },
      "source": [
        "#### Признак `loan_ordinal_number`"
      ]
    },
    {
      "cell_type": "code",
      "execution_count": 9,
      "metadata": {
        "ExecuteTime": {
          "end_time": "2022-01-31T03:51:22.879197Z",
          "start_time": "2022-01-31T03:51:22.875652Z"
        },
        "id": "BLFFV4jKTvIm"
      },
      "outputs": [],
      "source": [
        "# весь код расчета признака должен быть в этом методе\n",
        "def calculate_loan_number(df):\n",
        "    \"\"\"\n",
        "    for each user define order number of loan by datetime including requests to this loan.\n",
        "    All these requests will have the same order number that loan has\n",
        "    param df: dataframe for calculating\n",
        "    return: dataframe with added column contains order numbers\n",
        "    \"\"\"\n",
        "    # define all users who are served in the bank\n",
        "    users = df['user_id'].unique()\n",
        "    # assign 'loan_ordinal_number' column zero values\n",
        "    df['loan_ordinal_number'] = 0\n",
        "    # order is calculated for each user separately\n",
        "    for user in users:\n",
        "        # create mini-dataframe where there are rows with common user and sort it by event time\n",
        "        df_user = df[df['user_id'] == user].sort_values(['time'])\n",
        "        # transform column 'loan_ordinal_number' into array with library 'numpy'\n",
        "        array_loan_num = np.array(df_user['loan_ordinal_number'])\n",
        "        # the first request or approved loan will has order number 1\n",
        "        n = 1\n",
        "        for i in range(len(array_loan_num)):\n",
        "            # all requests to loan have the same order number\n",
        "            if df_user['is_loan'].iloc[i] == 0:\n",
        "                array_loan_num[i] = n\n",
        "            # this number has the current loan\n",
        "            else:\n",
        "                array_loan_num[i] = n\n",
        "                # for the next requests order number is more on 1\n",
        "                n += 1\n",
        "        # replace array from values in column 'loan_ordinal_number' with matched cells by user and index number to get array\n",
        "        df.loc[df_user.index.values, 'loan_ordinal_number'] = array_loan_num\n",
        "    return df"
      ]
    },
    {
      "cell_type": "markdown",
      "metadata": {
        "id": "O5H6FAyzTvIm"
      },
      "source": [
        "#### Признак `events_time_diff`"
      ]
    },
    {
      "cell_type": "code",
      "execution_count": 10,
      "metadata": {
        "ExecuteTime": {
          "end_time": "2022-01-31T03:51:25.018203Z",
          "start_time": "2022-01-31T03:51:25.014557Z"
        },
        "id": "Hr8x52iqTvIm"
      },
      "outputs": [],
      "source": [
        "# весь код расчета признака должен быть в этом методе\n",
        "def calculate_time_diff(df):\n",
        "    \"\"\"\n",
        "    calculate how much time passed from previous event to current one\n",
        "    param df: dataframe for calculating\n",
        "    return: dataframe with column contains time differences (for each user separately)\n",
        "    \"\"\"\n",
        "    # define all users who are served in the bank\n",
        "    users = df['user_id'].unique()\n",
        "    # assign 'events_time_diff' column zero values\n",
        "    df['events_time_diff'] = None\n",
        "    # time difference is calculated for each user separately\n",
        "    for user in users:\n",
        "        # create mini-dataframe where there are rows with common user and sort it by event time\n",
        "        df_user = df[df['user_id'] == user].sort_values(['time'])\n",
        "        # transform column 'events_time_diff' into array with library 'numpy'\n",
        "        array_time_dif = np.array(df_user['events_time_diff'])\n",
        "        # the first element of the array has value 'None'\n",
        "        # for the rest the current element's value is difference between datetime's value of the mathed current index of mini-dataframe\n",
        "        # and datetime's value of the previous index of this mini-dataframe \n",
        "        for i in range(1, len(array_time_dif)):\n",
        "            array_time_dif[i] = df_user['time'].iloc[i] - df_user['time'].iloc[i - 1]\n",
        "        # replace array from values in column 'events_time_diff' with matched cells by user and index number to get array\n",
        "        df.loc[df_user.index.values, 'events_time_diff'] = array_time_dif\n",
        "    return df"
      ]
    },
    {
      "cell_type": "markdown",
      "metadata": {
        "id": "2xKYCXE2TvIm"
      },
      "source": [
        "#### Признак `previous_loans_max_amount`"
      ]
    },
    {
      "cell_type": "code",
      "execution_count": 11,
      "metadata": {
        "ExecuteTime": {
          "end_time": "2022-01-31T03:51:26.966306Z",
          "start_time": "2022-01-31T03:51:26.961723Z"
        },
        "id": "T-JdLhHvTvIn"
      },
      "outputs": [],
      "source": [
        "# весь код расчета признака должен быть в этом методе\n",
        "def calculate_previous_max_amount(df):\n",
        "    \"\"\"\n",
        "    calculate at each time moment what maximal sum of loan was approved by bank for each user from his registration in the bank\n",
        "    param df: dataframe for calculating\n",
        "    return: dataframe with column contains maximal loan's sums at the current moment\n",
        "    \"\"\"\n",
        "    # define all users who are served in the bank\n",
        "    users = df['user_id'].unique()\n",
        "    # assign 'previous_loans_max_amount' column zero values\n",
        "    df['previous_loans_max_amount'] = 0\n",
        "    # time difference is calculated for each user separately\n",
        "    for user in users:\n",
        "        # create mini-dataframe where there are rows with common user and sort it by event time\n",
        "        df_user = df[df['user_id'] == user].sort_values(['time'])\n",
        "        # transform column 'previous_loans_max_amount' into array with library 'numpy'\n",
        "        array = np.array(df_user['previous_loans_max_amount'])\n",
        "        # initially max loan for all time is zero\n",
        "        max_prev_loan = 0\n",
        "        for i in range(len(array)):\n",
        "            # if loan request is approved this approved loan is not taken account of amount's list\n",
        "            # but maximal amount is defined as maximum between this loan's amount and previous current maximum\n",
        "            if df_user['is_loan'].iloc[i] == 1:\n",
        "                array[i] = max_prev_loan\n",
        "                max_prev_loan = max(max_prev_loan, df_user['amount'].iloc[i])\n",
        "            # if request maximal amount is saved\n",
        "            else:\n",
        "                array[i] = max_prev_loan\n",
        "        # replace array from values in column 'previous_loans_max_amount' with matched cells by user and index number to get array\n",
        "        df.loc[df_user.index.values, 'previous_loans_max_amount'] = array\n",
        "    return df\n",
        "\n",
        "# execute all functions and add columns to the dataframe"
      ]
    },
    {
      "cell_type": "markdown",
      "metadata": {
        "id": "n-7NdV4iTvIn"
      },
      "source": [
        "### Сохранение итогового датасета с признаками\n",
        "\n",
        "Этот код трогать не нужно."
      ]
    },
    {
      "cell_type": "code",
      "execution_count": 12,
      "metadata": {
        "ExecuteTime": {
          "end_time": "2022-01-31T03:51:29.334833Z",
          "start_time": "2022-01-31T03:51:29.331495Z"
        },
        "id": "BVV16d4ETvIn"
      },
      "outputs": [],
      "source": [
        "def calculate_feature(df):\n",
        "    calculate_events_number(df)\n",
        "    calculate_second_event_time(df)\n",
        "    calculate_loan_number(df)\n",
        "    calculate_time_diff(df)\n",
        "    calculate_previous_max_amount(df)"
      ]
    },
    {
      "cell_type": "code",
      "execution_count": 13,
      "metadata": {
        "ExecuteTime": {
          "end_time": "2022-01-31T03:53:20.750966Z",
          "start_time": "2022-01-31T03:53:17.888812Z"
        },
        "colab": {
          "base_uri": "https://localhost:8080/"
        },
        "id": "U_ZxCijBTvIn",
        "outputId": "3695c038-58c8-4ca4-c238-06edb2a5bc0c"
      },
      "outputs": [
        {
          "output_type": "stream",
          "name": "stderr",
          "text": [
            "/usr/local/lib/python3.7/dist-packages/pandas/core/indexing.py:1732: SettingWithCopyWarning: \n",
            "A value is trying to be set on a copy of a slice from a DataFrame\n",
            "\n",
            "See the caveats in the documentation: https://pandas.pydata.org/pandas-docs/stable/user_guide/indexing.html#returning-a-view-versus-a-copy\n",
            "  self._setitem_single_block(indexer, value, name)\n"
          ]
        },
        {
          "output_type": "stream",
          "name": "stdout",
          "text": [
            "1 loop, best of 5: 13.5 s per loop\n"
          ]
        },
        {
          "output_type": "execute_result",
          "data": {
            "text/plain": [
              "<TimeitResult : 1 loop, best of 5: 13.5 s per loop>"
            ]
          },
          "metadata": {},
          "execution_count": 13
        }
      ],
      "source": [
        "%%timeit -o \n",
        "calculate_feature(df)"
      ]
    },
    {
      "cell_type": "code",
      "execution_count": 14,
      "metadata": {
        "ExecuteTime": {
          "end_time": "2022-01-31T03:53:22.588760Z",
          "start_time": "2022-01-31T03:53:22.583736Z"
        },
        "id": "6PXAB-zzTvIo"
      },
      "outputs": [],
      "source": [
        "columns = ['time']\n",
        "rez = _\n",
        "df_time = pd.DataFrame([rez], None, columns)\n",
        "df_time.to_csv('time.csv', index=False)"
      ]
    },
    {
      "cell_type": "code",
      "execution_count": 16,
      "metadata": {
        "ExecuteTime": {
          "end_time": "2022-01-27T10:22:50.404760Z",
          "start_time": "2022-01-27T10:22:50.349771Z"
        },
        "id": "bmO64kELTvIo"
      },
      "outputs": [],
      "source": [
        "df.to_csv('test.csv', index=False)"
      ]
    },
    {
      "cell_type": "code",
      "execution_count": null,
      "metadata": {
        "id": "sb_hcoqJTvIp"
      },
      "outputs": [],
      "source": [
        ""
      ]
    }
  ],
  "metadata": {
    "kernelspec": {
      "display_name": "modp6130",
      "language": "python",
      "name": "modp6130"
    },
    "language_info": {
      "codemirror_mode": {
        "name": "ipython",
        "version": 3
      },
      "file_extension": ".py",
      "mimetype": "text/x-python",
      "name": "python",
      "nbconvert_exporter": "python",
      "pygments_lexer": "ipython3",
      "version": "3.7.2"
    },
    "varInspector": {
      "cols": {
        "lenName": 16,
        "lenType": 16,
        "lenVar": 40
      },
      "kernels_config": {
        "python": {
          "delete_cmd_postfix": "",
          "delete_cmd_prefix": "del ",
          "library": "var_list.py",
          "varRefreshCmd": "print(var_dic_list())"
        },
        "r": {
          "delete_cmd_postfix": ") ",
          "delete_cmd_prefix": "rm(",
          "library": "var_list.r",
          "varRefreshCmd": "cat(var_dic_list()) "
        }
      },
      "types_to_exclude": [
        "module",
        "function",
        "builtin_function_or_method",
        "instance",
        "_Feature"
      ],
      "window_display": false
    },
    "colab": {
      "name": "test_task.ipynb",
      "provenance": [],
      "collapsed_sections": []
    }
  },
  "nbformat": 4,
  "nbformat_minor": 0
}